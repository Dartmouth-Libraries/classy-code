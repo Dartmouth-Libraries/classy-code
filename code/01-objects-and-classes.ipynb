{
 "cells": [
  {
   "attachments": {},
   "cell_type": "markdown",
   "metadata": {},
   "source": [
    "# Objects and classes"
   ]
  },
  {
   "attachments": {},
   "cell_type": "markdown",
   "metadata": {},
   "source": [
    "## Definitions\n",
    "\n",
    "### Object\n",
    "\n",
    "An encapsulation of data and the functions working with that data\n",
    "\n",
    "The variables storing the data in an object are called _fields_ or _member variables_.\n",
    "\n",
    "The functions defined on an object are called _methods_ or _member functions_.\n",
    "\n",
    "### Class\n",
    "\n",
    "A blueprint for objects defining what _kind_ of fields they contain and _how_ their methods work.\n",
    "\n",
    "An object is called an _instance_ of a class.\n"
   ]
  },
  {
   "attachments": {},
   "cell_type": "markdown",
   "metadata": {},
   "source": [
    "## Implementation\n",
    "\n",
    "Every language has its own way of defining classes and creating objects based on that class definition (_instantiating_).\n",
    "\n",
    "### Defining a class\n",
    "\n",
    "At least, however, the class needs to define what happens when it a new object of this class is created. This is done in a special method that is implicitly called when an object is instantiated. Some languages (e.g., C++, Java) call this special method the _constructor_. In Python, it is a function called `__init__()`. Because of the double underscores, methods like this are called _dunder_ methods in Python. They are special methods that allow objects to interact with the built-in functions in and operators in the language. For example, by defining the `__init__()` dunder method, we can determine what happens when the object is initialized (i.e., during instantiation).\n",
    "\n",
    "<div class=\"alert alert-block alert-info\">\n",
    "\n",
    "**Note:** In Python, every (non-static) method gets passed a reference to its parent object as the first argument. We therefore have to define every method with at least one parameter. By convention, the first parameter is called `self`. It's a common mistake to forget that the first parameter is always this self-reference, especially when there are multiple parameters in a method!\n",
    "\n",
    "</div>\n"
   ]
  },
  {
   "cell_type": "code",
   "execution_count": null,
   "metadata": {},
   "outputs": [],
   "source": [
    "class MyClass:\n",
    "    def __init__(self):\n",
    "        pass"
   ]
  },
  {
   "cell_type": "code",
   "execution_count": null,
   "metadata": {},
   "outputs": [],
   "source": [
    "my_object = MyClass()\n",
    "type(my_object)"
   ]
  },
  {
   "attachments": {},
   "cell_type": "markdown",
   "metadata": {},
   "source": [
    "### Adding fields\n",
    "\n",
    "Once again, every programming language has a different idea how fields should be defined. In Python, we simply create a new variable in the initializer. An important detail, however, is that we have to define the variable on the `self` reference so that it \"sticks\". Otherwise it is just a variable within the scope of the initializer method, but will be gone once program execution returns from the initializer.\n"
   ]
  },
  {
   "cell_type": "code",
   "execution_count": null,
   "metadata": {},
   "outputs": [],
   "source": [
    "class MyClass:\n",
    "    def __init__(self):\n",
    "        my_temp_variable = 3\n",
    "        self.my_field = my_temp_variable"
   ]
  },
  {
   "attachments": {},
   "cell_type": "markdown",
   "metadata": {},
   "source": [
    "We can access fields using the dot notation (at least in Python):\n"
   ]
  },
  {
   "cell_type": "code",
   "execution_count": null,
   "metadata": {},
   "outputs": [],
   "source": [
    "my_object = MyClass()\n",
    "# my_object.my_temp_variable\n",
    "my_object.my_field"
   ]
  },
  {
   "attachments": {},
   "cell_type": "markdown",
   "metadata": {},
   "source": [
    "Just like with any other function, we can also define additional parameters for the initializer, for example to pass the initial value of a field:\n"
   ]
  },
  {
   "cell_type": "code",
   "execution_count": null,
   "metadata": {},
   "outputs": [],
   "source": [
    "class MyClass:\n",
    "    def __init__(self, initial_value):\n",
    "        self.my_field = initial_value"
   ]
  },
  {
   "cell_type": "code",
   "execution_count": null,
   "metadata": {},
   "outputs": [],
   "source": [
    "# my_object = MyClass()\n",
    "my_object = MyClass(5)\n",
    "my_object.my_field"
   ]
  },
  {
   "attachments": {},
   "cell_type": "markdown",
   "metadata": {},
   "source": [
    "As mentioned above, the initializer is a special method that gets called when we instantiate an object. We can define regular methods using a very similar syntax:\n"
   ]
  },
  {
   "cell_type": "code",
   "execution_count": null,
   "metadata": {},
   "outputs": [],
   "source": [
    "class MyClass:\n",
    "    def __init__(self, initial_value):\n",
    "        self.my_field = initial_value\n",
    "\n",
    "    def say_hi(self):  # Don't forget the reference to self!\n",
    "        print(f\"Hi! I am {self} and my field's value is {self.my_field}!\")"
   ]
  },
  {
   "attachments": {},
   "cell_type": "markdown",
   "metadata": {},
   "source": [
    "Calling a method is similar to accessing a field using the dot notation:\n"
   ]
  },
  {
   "cell_type": "code",
   "execution_count": null,
   "metadata": {},
   "outputs": [],
   "source": [
    "my_object = MyClass(5)\n",
    "my_object.say_hi()"
   ]
  },
  {
   "cell_type": "markdown",
   "metadata": {},
   "source": [
    "<table >\n",
    "<tbody>\n",
    "  <tr>\n",
    "    <td style=\"padding:0px;border-width:0px;vertical-align:center\">    \n",
    "    Created by Simon Stone for Dartmouth College Library under <a href=\"https://creativecommons.org/licenses/by/4.0/\">Creative Commons CC BY-NC 4.0 License</a>.<br>For questions, comments, or improvements, email <a href=\"mailto:researchdatahelp@groups.dartmouth.edu\">Research Data Services</a>.\n",
    "    </td>\n",
    "    <td style=\"padding:0 0 0 1em;border-width:0px;vertical-align:center\"><img alt=\"Creative Commons License\" src=\"https://i.creativecommons.org/l/by/4.0/88x31.png\"/></td>\n",
    "  </tr>\n",
    "</tbody>\n",
    "</table>\n"
   ]
  }
 ],
 "metadata": {
  "kernelspec": {
   "display_name": ".env",
   "language": "python",
   "name": "python3"
  },
  "language_info": {
   "codemirror_mode": {
    "name": "ipython",
    "version": 3
   },
   "file_extension": ".py",
   "mimetype": "text/x-python",
   "name": "python",
   "nbconvert_exporter": "python",
   "pygments_lexer": "ipython3",
   "version": "3.10.8"
  },
  "orig_nbformat": 4
 },
 "nbformat": 4,
 "nbformat_minor": 2
}
