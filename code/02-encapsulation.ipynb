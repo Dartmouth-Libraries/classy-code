{
 "cells": [
  {
   "attachments": {},
   "cell_type": "markdown",
   "metadata": {},
   "source": [
    "# Encapsulation"
   ]
  },
  {
   "attachments": {},
   "cell_type": "markdown",
   "metadata": {},
   "source": [
    "Two distinct, but related aspects:\n",
    "\n",
    "- Bundle data and methods operating on the data in an entity\n",
    "- Control and restrict access to the data from the outside\n",
    "\n",
    "Simply defining classes can take care of the first aspect, since, as explained in the previous notebook, defining classes _is_ the act of bundling data/fields and methods together.\n",
    "\n",
    "So far, we have not paid attention at all to the second aspect: We did not impose any restrictions on how to access and/or manipulate the field in our tiny example class. It is usually a good idea to be a little more protective of fields in a class, though. The reason for this is that fields often has side effects, and changing a field should also change the value in another field and/or might lead to an invalid state of an object.\n",
    "\n",
    "For example, let's say we were designing a class representing a bank account:\n"
   ]
  },
  {
   "cell_type": "code",
   "execution_count": null,
   "metadata": {},
   "outputs": [],
   "source": [
    "class BankAccount:\n",
    "    def __init__(self, initial_deposit=0, limit=-100):\n",
    "        self.balance = initial_deposit\n",
    "        self.limit = limit"
   ]
  },
  {
   "attachments": {},
   "cell_type": "markdown",
   "metadata": {},
   "source": [
    "We currently have full access to the field `balance`, which means we can set the value to anything we like. However, the account is supposed to have a limit, defining how much overdrafting we are allowed to do. This limit is currently not enforced, though, because we can change the `balance` at will!\n",
    "\n",
    "So let's add some methods to handle changes to the balance:\n"
   ]
  },
  {
   "cell_type": "code",
   "execution_count": null,
   "metadata": {},
   "outputs": [],
   "source": [
    "class BankAccount:\n",
    "    def __init__(self, initial_deposit=0, limit=100):\n",
    "        self.balance = initial_deposit\n",
    "        self.limit = limit\n",
    "\n",
    "    def check_balance(self):\n",
    "        print(f\"Your current balance is now {self.balance}.\")\n",
    "\n",
    "    def deposit(self, amount):\n",
    "        self.balance += amount\n",
    "        self.check_balance()\n",
    "\n",
    "    def withdraw(self, amount):\n",
    "        if self.balance + self.limit >= amount:\n",
    "            self.balance -= amount\n",
    "            self.check_balance()\n",
    "        else:\n",
    "            print(\n",
    "                f\"The maximum amount you can currently withdraw is {self.balance + self.limit}!\"\n",
    "            )"
   ]
  },
  {
   "cell_type": "code",
   "execution_count": null,
   "metadata": {},
   "outputs": [],
   "source": [
    "my_account = BankAccount()\n",
    "\n",
    "my_account.deposit(500)\n",
    "my_account.deposit(200)\n",
    "my_account.withdraw(300)\n",
    "my_account.withdraw(1000)"
   ]
  },
  {
   "attachments": {},
   "cell_type": "markdown",
   "metadata": {},
   "source": [
    "We now no longer interact with `balance` directly, but instead use a method to _get_ its value (`check_balance()`), and two methods to _set_ its value (`deposit()` and `withdraw`). These methods are therefore also known as _getter_ and _setter_ methods. Separating these out allows us to take care of the potential side effects or check for conditions (e.g., the overdraft limit) before or after we set the value.\n",
    "\n",
    "A more generic way of representing this concept:\n",
    "\n",
    "```python\n",
    "class MyClass:\n",
    "    def __init__(self):\n",
    "        self.field = 5\n",
    "\n",
    "    def set_field(self, value):\n",
    "        self.field = value\n",
    "\n",
    "    def get_field(self):\n",
    "        return self.field\n",
    "```\n"
   ]
  },
  {
   "attachments": {},
   "cell_type": "markdown",
   "metadata": {},
   "source": [
    "You may have noticed that our getters and setters are currently just a suggestion. Anyone using our `BankAccount` still has full access to both the `balance` and the `limit` field. Some programming languages allow to enforce the usage of the getters and setters and prevent direct access to fields entirely. This is usually done using _access specifiers_ like `public` and `private`. In Python, the access level is indicated by the variable name: We can restrict access to a field to class-internal use using a double underscore:\n"
   ]
  },
  {
   "cell_type": "code",
   "execution_count": null,
   "metadata": {},
   "outputs": [],
   "source": [
    "class BankAccount:\n",
    "    def __init__(self, initial_deposit=0, limit=100):\n",
    "        self.__balance = initial_deposit\n",
    "        self.__limit = limit\n",
    "\n",
    "    def check_balance(self):\n",
    "        print(f\"Your current balance is now {self.__balance}.\")\n",
    "\n",
    "    def deposit(self, amount):\n",
    "        self.__balance += amount\n",
    "        self.check_balance()\n",
    "\n",
    "    def withdraw(self, amount):\n",
    "        if self.__balance + self.__limit >= amount:\n",
    "            self.__balance -= amount\n",
    "            self.check_balance()\n",
    "        else:\n",
    "            print(\n",
    "                f\"The maximum amount you can currently withdraw is {self.__balance + self.__limit}!\"\n",
    "            )"
   ]
  },
  {
   "cell_type": "code",
   "execution_count": null,
   "metadata": {},
   "outputs": [],
   "source": [
    "my_safe_account = BankAccount()\n",
    "# my_safe_account.__balance  # Throws an AttributeError!\n",
    "# my_safe_account.__limit  # Throws an AttributeError!\n",
    "my_safe_account.deposit(100)\n",
    "my_safe_account.withdraw(300)"
   ]
  },
  {
   "attachments": {},
   "cell_type": "markdown",
   "metadata": {},
   "source": [
    "<div class=\"alert alert-block alert-info\">\n",
    "\n",
    "**Note:** In most languages, this kind of access control is just way to communicate how you intend the class to be used. It is not a security feature and can often be easily circumvented!\n",
    "\n",
    "</div>\n"
   ]
  },
  {
   "cell_type": "markdown",
   "metadata": {},
   "source": [
    "<table >\n",
    "<tbody>\n",
    "  <tr>\n",
    "    <td style=\"padding:0px;border-width:0px;vertical-align:center\">    \n",
    "    Created by Simon Stone for Dartmouth College Library under <a href=\"https://creativecommons.org/licenses/by/4.0/\">Creative Commons CC BY-NC 4.0 License</a>.<br>For questions, comments, or improvements, email <a href=\"mailto:researchdatahelp@groups.dartmouth.edu\">Research Data Services</a>.\n",
    "    </td>\n",
    "    <td style=\"padding:0 0 0 1em;border-width:0px;vertical-align:center\"><img alt=\"Creative Commons License\" src=\"https://i.creativecommons.org/l/by/4.0/88x31.png\"/></td>\n",
    "  </tr>\n",
    "</tbody>\n",
    "</table>\n"
   ]
  }
 ],
 "metadata": {
  "kernelspec": {
   "display_name": ".env",
   "language": "python",
   "name": "python3"
  },
  "language_info": {
   "codemirror_mode": {
    "name": "ipython",
    "version": 3
   },
   "file_extension": ".py",
   "mimetype": "text/x-python",
   "name": "python",
   "nbconvert_exporter": "python",
   "pygments_lexer": "ipython3",
   "version": "3.10.8"
  },
  "orig_nbformat": 4
 },
 "nbformat": 4,
 "nbformat_minor": 2
}
