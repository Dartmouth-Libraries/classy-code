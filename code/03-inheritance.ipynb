{
 "cells": [
  {
   "attachments": {},
   "cell_type": "markdown",
   "metadata": {},
   "source": [
    "# Inheritance"
   ]
  },
  {
   "attachments": {},
   "cell_type": "markdown",
   "metadata": {},
   "source": [
    "Inheritance is a way to base a class on some other class. This way, functionality encapsulated in the super class can be re-used by the sub class without having to reimplement the code. A good way to think about the relationship between a sub class and its super class is: \"The [sub class] **is a** [base class] that can additionally do X\".\n",
    "\n",
    "For example, let's implement this very basic logic as classes using inheritance:\n",
    "\n",
    "- \"An `Animal` can `move()`.\"\n",
    "- \"A `Dog` is an `Animal` that can `bark()`\"\n"
   ]
  },
  {
   "cell_type": "code",
   "execution_count": null,
   "metadata": {},
   "outputs": [],
   "source": [
    "class Animal:\n",
    "    def __init__(self) -> None:\n",
    "        pass\n",
    "\n",
    "    def move(self):\n",
    "        print(\"The animal runs!\")\n",
    "\n",
    "\n",
    "class Dog(Animal):\n",
    "    def __init__(self):\n",
    "        super().__init__()\n",
    "\n",
    "    def bark(self):\n",
    "        print(\"The dog barks!\")"
   ]
  },
  {
   "cell_type": "code",
   "execution_count": null,
   "metadata": {},
   "outputs": [],
   "source": [
    "doggo = Dog()\n",
    "\n",
    "doggo.move()\n",
    "doggo.bark()"
   ]
  },
  {
   "attachments": {},
   "cell_type": "markdown",
   "metadata": {},
   "source": [
    "We can express this relationship in a class diagram like this one:\n",
    "\n",
    "<img align=\"center\" width=\"200\" style='padding: 0px 30px;background-color: white' src=\"../img/animal-dog.png\"/>\n",
    "\n",
    "Now maybe we also wanted to create a class `Cat`, which is also an `Animal`, but can `meow()`. We can add that class to the hierarchy like this:\n",
    "\n",
    "<img align=\"center\" width=\"200\" style='padding: 0px 30px;background-color: white' src=\"../img/animal-dog-cat.png\"/>\n",
    "\n",
    "And the implementation would look like this:\n"
   ]
  },
  {
   "cell_type": "code",
   "execution_count": null,
   "metadata": {},
   "outputs": [],
   "source": [
    "class Cat(Animal):\n",
    "    def __init__(self):\n",
    "        super().__init__()\n",
    "\n",
    "    def meow(self):\n",
    "        print(\"The cat meows!\")\n",
    "\n",
    "\n",
    "my_cat = Cat()\n",
    "my_cat.move()\n",
    "# my_cat.bark()  # This method does not exist, because it is defined in a class at the same hierarchy level!\n",
    "my_cat.meow()"
   ]
  },
  {
   "attachments": {},
   "cell_type": "markdown",
   "metadata": {},
   "source": [
    "Now what if we also wanted to add a `Goldfish`? A `Goldfish` is an `Animal`, but the `Animal` runs when it makes a `move()`. A `Goldfish` would inherit the `move()` method, just like the `Dog` and `Cat` did, but it should swim instead of run!\n",
    "\n",
    "If we need to change the behavior of an inherited method, we can _override_ it. Many languages require special key words in the class definition to signal a method override, but in Python we can simply redefine the method in the derived sub class:\n",
    "\n",
    "<img align=\"center\" width=\"300\" style='padding: 0px 30px;background-color: white' src=\"../img/animal-fish.png\"/>\n"
   ]
  },
  {
   "cell_type": "code",
   "execution_count": null,
   "metadata": {},
   "outputs": [],
   "source": [
    "class Goldfish(Animal):\n",
    "    def __init__(self):\n",
    "        super().__init__()\n",
    "\n",
    "    def move(self):\n",
    "        print(\"The goldfish swims!\")\n",
    "\n",
    "\n",
    "my_goldfish = Goldfish()\n",
    "my_goldfish.move()"
   ]
  },
  {
   "attachments": {},
   "cell_type": "markdown",
   "metadata": {},
   "source": [
    "<div class=\"alert alert-block alert-info\">\n",
    "\n",
    "You may be wondering why we are bothering to subclass `Goldfish` from `Animal` at all, since we override the only method we are inheriting from `Animal`. But besides the consistency with the other `Animal`-derived classes, you will see a benefit later on when we talk about polymorphism.\n",
    "\n",
    "</div>\n"
   ]
  },
  {
   "cell_type": "markdown",
   "metadata": {},
   "source": [
    "<table >\n",
    "<tbody>\n",
    "  <tr>\n",
    "    <td style=\"padding:0px;border-width:0px;vertical-align:center\">    \n",
    "    Created by Simon Stone for Dartmouth College Library under <a href=\"https://creativecommons.org/licenses/by/4.0/\">Creative Commons CC BY-NC 4.0 License</a>.<br>For questions, comments, or improvements, email <a href=\"mailto:researchdatahelp@groups.dartmouth.edu\">Research Data Services</a>.\n",
    "    </td>\n",
    "    <td style=\"padding:0 0 0 1em;border-width:0px;vertical-align:center\"><img alt=\"Creative Commons License\" src=\"https://i.creativecommons.org/l/by/4.0/88x31.png\"/></td>\n",
    "  </tr>\n",
    "</tbody>\n",
    "</table>\n"
   ]
  }
 ],
 "metadata": {
  "kernelspec": {
   "display_name": ".env",
   "language": "python",
   "name": "python3"
  },
  "language_info": {
   "codemirror_mode": {
    "name": "ipython",
    "version": 3
   },
   "file_extension": ".py",
   "mimetype": "text/x-python",
   "name": "python",
   "nbconvert_exporter": "python",
   "pygments_lexer": "ipython3",
   "version": "3.10.8"
  },
  "orig_nbformat": 4
 },
 "nbformat": 4,
 "nbformat_minor": 2
}
