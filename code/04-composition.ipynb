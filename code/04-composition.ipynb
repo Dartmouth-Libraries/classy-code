{
 "cells": [
  {
   "attachments": {},
   "cell_type": "markdown",
   "metadata": {},
   "source": [
    "# Composition"
   ]
  },
  {
   "attachments": {},
   "cell_type": "markdown",
   "metadata": {},
   "source": [
    "As discussed in the previous notebook, inheritance is a way to model an _is a_ relationship. Composition, on the other hand, is a way to model a _has a_ relationship.\n",
    "\n",
    "For example, let's say we want to implement the following logic:\n",
    "\n",
    "- An `Employee` _is a_ `Person` that _has a_ `Salary`\n",
    "\n",
    "The class diagram visualizing this relationship could look like this:\n",
    "\n",
    "<img align=\"center\" width=\"300\" style='padding: 0px 30px;background-color: white' src=\"../img/composition.png\"/>\n",
    "\n",
    "An implementation in Python could be:\n"
   ]
  },
  {
   "cell_type": "code",
   "execution_count": null,
   "metadata": {},
   "outputs": [],
   "source": [
    "class Person:\n",
    "    def __init__(self, name):\n",
    "        self.name = name\n",
    "\n",
    "\n",
    "class Salary:\n",
    "    def __init__(self, annual):\n",
    "        self.__annual = annual\n",
    "\n",
    "    def get_monthly(self):\n",
    "        return self.__annual / 12\n",
    "\n",
    "    def get_annual(self):\n",
    "        return self.__annual\n",
    "\n",
    "\n",
    "class Employee(Person):\n",
    "    def __init__(self, name, annual_salary):\n",
    "        super().__init__(name)\n",
    "        # This is where the composition happens:\n",
    "        self.salary = Salary(annual_salary)\n",
    "\n",
    "\n",
    "me = Employee(name=\"Simon\", annual_salary=1000000)\n",
    "\n",
    "print(f\"{me.name} has a monthly salary of {me.salary.get_monthly():.2f}\")"
   ]
  },
  {
   "cell_type": "markdown",
   "metadata": {},
   "source": [
    "<table >\n",
    "<tbody>\n",
    "  <tr>\n",
    "    <td style=\"padding:0px;border-width:0px;vertical-align:center\">    \n",
    "    Created by Simon Stone for Dartmouth College Library under <a href=\"https://creativecommons.org/licenses/by/4.0/\">Creative Commons CC BY-NC 4.0 License</a>.<br>For questions, comments, or improvements, email <a href=\"mailto:researchdatahelp@groups.dartmouth.edu\">Research Data Services</a>.\n",
    "    </td>\n",
    "    <td style=\"padding:0 0 0 1em;border-width:0px;vertical-align:center\"><img alt=\"Creative Commons License\" src=\"https://i.creativecommons.org/l/by/4.0/88x31.png\"/></td>\n",
    "  </tr>\n",
    "</tbody>\n",
    "</table>\n"
   ]
  }
 ],
 "metadata": {
  "kernelspec": {
   "display_name": ".env",
   "language": "python",
   "name": "python3"
  },
  "language_info": {
   "codemirror_mode": {
    "name": "ipython",
    "version": 3
   },
   "file_extension": ".py",
   "mimetype": "text/x-python",
   "name": "python",
   "nbconvert_exporter": "python",
   "pygments_lexer": "ipython3",
   "version": "3.10.8"
  },
  "orig_nbformat": 4
 },
 "nbformat": 4,
 "nbformat_minor": 2
}
