{
 "cells": [
  {
   "attachments": {},
   "cell_type": "markdown",
   "metadata": {},
   "source": [
    "# Polymorphism"
   ]
  },
  {
   "attachments": {},
   "cell_type": "markdown",
   "metadata": {},
   "source": [
    "As we have already seen in the notebook on inheritance, we can make the behavior of an interface dependent on the types involved: When we created our `Goldfish` class, we changed how the `move()` method inherited from `Animal` behaves. This is an expression of the concept of *polymorphism*.\n",
    "\n",
    "Polymorphism lets us write fairly abstract code that can work for many different kinds of objects, as long as they provide the interface we expect. This requires a certain level of abstraction, however.\n",
    "Let's bring back our previous class hierarchy as an example:"
   ]
  },
  {
   "cell_type": "code",
   "execution_count": null,
   "metadata": {},
   "outputs": [],
   "source": [
    "class Animal:\n",
    "    def __init__(self) -> None:\n",
    "        pass\n",
    "    \n",
    "    def move(self):\n",
    "        print(\"The animal runs!\")\n",
    "        \n",
    "\n",
    "class Dog(Animal):\n",
    "    def __init__(self):\n",
    "        super().__init__()\n",
    "        \n",
    "    def bark(self):\n",
    "        print(\"The dog barks!\")\n",
    "        \n",
    "        \n",
    "class Cat(Animal):\n",
    "    def __init__(self):\n",
    "        super().__init__()\n",
    "        \n",
    "    def meow(self):\n",
    "        print(\"The cat meows!\")\n",
    "              \n",
    "              \n",
    "class Goldfish(Animal):\n",
    "    def __init__(self):\n",
    "        super().__init__()\n",
    "    \n",
    "    def move(self):\n",
    "        print(\"The goldfish swims!\")"
   ]
  },
  {
   "cell_type": "markdown",
   "metadata": {},
   "source": [
    "The way these classes are defined, they all share the method `move()` in their interface. We could therefore do something like this:"
   ]
  },
  {
   "cell_type": "code",
   "execution_count": null,
   "metadata": {},
   "outputs": [],
   "source": [
    "animals = [Dog(), Cat(), Dog(), Goldfish()]\n",
    "\n",
    "for animal in animals:\n",
    "    animal.move()"
   ]
  },
  {
   "attachments": {},
   "cell_type": "markdown",
   "metadata": {},
   "source": [
    "This is not ideal in two ways: Since we are relying on the implementation of `move()` in the base class `Animal`, the output is very abstract. Another issue is that the methods to have the animals speak are not part of their common interface defined in `Animal`, so we cannot call the right method before finding out which exact class we are dealing with. \n",
    "\n",
    "We can fix both of these issues by including abstract definitions of the interface in the base class and then overriding them with different implementations in the sub classes:"
   ]
  },
  {
   "cell_type": "code",
   "execution_count": null,
   "metadata": {},
   "outputs": [],
   "source": [
    "class Animal:\n",
    "    def __init__(self) -> None:\n",
    "        pass\n",
    "    \n",
    "    def move(self):\n",
    "        pass\n",
    "    \n",
    "    def speak(self):\n",
    "        pass\n",
    "        \n",
    "\n",
    "class Dog(Animal):\n",
    "    def __init__(self):\n",
    "        super().__init__()\n",
    "        \n",
    "    def move(self):\n",
    "        print(\"The dog runs!\")\n",
    "        \n",
    "    def speak(self):\n",
    "        print(\"The dog barks!\")\n",
    "        \n",
    "        \n",
    "class Cat(Animal):\n",
    "    def __init__(self):\n",
    "        super().__init__()\n",
    "        \n",
    "    def move(self):\n",
    "        print(\"The cat sneaks!\")\n",
    "        \n",
    "    def speak(self):\n",
    "        print(\"The cat meows!\")\n",
    "              \n",
    "              \n",
    "class Goldfish(Animal):\n",
    "    def __init__(self):\n",
    "        super().__init__()\n",
    "    \n",
    "    def move(self):\n",
    "        print(\"The goldfish swims!\")\n",
    "    \n",
    "    def speak(self):\n",
    "        print(\"Blub!\")"
   ]
  },
  {
   "attachments": {},
   "cell_type": "markdown",
   "metadata": {},
   "source": [
    "Now we can write the same code for all classes and the behavior changes depending on the object:"
   ]
  },
  {
   "cell_type": "code",
   "execution_count": null,
   "metadata": {},
   "outputs": [],
   "source": [
    "animals = [Dog(), Cat(), Dog(), Goldfish()]\n",
    "\n",
    "for animal in animals:\n",
    "    animal.move()\n",
    "    animal.speak()"
   ]
  },
  {
   "attachments": {},
   "cell_type": "markdown",
   "metadata": {},
   "source": [
    "<div class=\"alert alert-block alert-info\"> \n",
    "\n",
    "**Note**: Python does not require us to define a common base class in this example, because it uses a technique called \"duck typing\", which just requires methods of the same name to be present in the objects at runtime. Other classes strictly require a common base class, however, which is why we are explicitly using one here, as well.\n",
    "</div>"
   ]
  },
  {
   "attachments": {},
   "cell_type": "markdown",
   "metadata": {},
   "source": [
    "Another way polymorphism can be used is by re-defining how an operator behaves depending on the types involved. This is called *operateor overloading* and uses different syntax in each programming language, of course. In Python, we make use of special dunder methods. The dunder method to override the `+` operator, for example, is called `__add__()`:"
   ]
  },
  {
   "cell_type": "code",
   "execution_count": null,
   "metadata": {},
   "outputs": [],
   "source": [
    "class Dog(Animal):\n",
    "    def __init__(self):\n",
    "        super().__init__()\n",
    "        \n",
    "    def move(self):\n",
    "        print(\"The dog runs!\")\n",
    "        \n",
    "    def speak(self):\n",
    "        print(\"The dog barks!\")\n",
    "        \n",
    "    def __add__(self, other):\n",
    "        if isinstance(other, Cat):\n",
    "            print(\"Grrrr!\")\n",
    "            return\n",
    "        if isinstance(other, Dog):\n",
    "            print(\"Sniff!\")\n",
    "            return\n",
    "        if isinstance(other, Goldfish):\n",
    "            print(\"Meh\")\n",
    "            return\n",
    "        \n",
    "my_dog = Dog()\n",
    "my_cat = Cat()\n",
    "my_goldfish = Goldfish()\n",
    "\n",
    "\n",
    "my_dog + my_dog\n",
    "my_dog + my_cat  \n",
    "my_dog + my_goldfish        "
   ]
  },
  {
   "attachments": {},
   "cell_type": "markdown",
   "metadata": {},
   "source": [
    "You can theoretically override any operator you like and entirely change their behavior, just like we did in the above example. If done properly, this can greatly improve the readability of your code. One of my favorite examples is from the [`pathlib`](https://docs.python.org/3/library/pathlib.html) module in Python's standard library. The `pathlib` library is an object-oriented approach to dealing with filepaths, which is famously annoying when you try to do it in a platform-robust way.\n",
    "\n",
    "True to the principle of encapsulation, the entire functionality is bundled in an object of the class `Path`. Upon creation, we initialize the `Path` object with a string. The `Path` class overloads the division operator `/` so that it concatenates paths using the correct separator depending on the platform:"
   ]
  },
  {
   "cell_type": "code",
   "execution_count": null,
   "metadata": {},
   "outputs": [],
   "source": [
    "from pathlib import Path\n",
    "\n",
    "p = Path('grandparent/parent')\n",
    "\n",
    "p / \"child\""
   ]
  },
  {
   "attachments": {},
   "cell_type": "markdown",
   "metadata": {},
   "source": [
    "This code is very expressive because it reads like a file path, and we do not need to worry about the exact implementation of these methods, which are platform-dependent, because polymorphism takes care of that.\n"
   ]
  }
 ],
 "metadata": {
  "kernelspec": {
   "display_name": ".env",
   "language": "python",
   "name": "python3"
  },
  "language_info": {
   "codemirror_mode": {
    "name": "ipython",
    "version": 3
   },
   "file_extension": ".py",
   "mimetype": "text/x-python",
   "name": "python",
   "nbconvert_exporter": "python",
   "pygments_lexer": "ipython3",
   "version": "3.10.8"
  },
  "orig_nbformat": 4
 },
 "nbformat": 4,
 "nbformat_minor": 2
}
