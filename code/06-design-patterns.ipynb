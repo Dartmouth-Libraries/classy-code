{
 "cells": [
  {
   "attachments": {},
   "cell_type": "markdown",
   "metadata": {},
   "source": [
    "# Design patterns"
   ]
  },
  {
   "attachments": {},
   "cell_type": "markdown",
   "metadata": {},
   "source": [
    "Design patterns are template solutions you can use for recurring problems in software design. They are independent of programming languages, although some languages may make their implementation easier. Because of their very nature, design patterns are very abstract and realizing that a problem lends itself to a particular design pattern can be challenging. Using design patterns, however, allows adopting a common \"design language\" that can be easily understood by other programmers familiar with the pattern looking at your code.\n",
    "\n",
    "Design patterns have a long history, but the 1994 book _\"Design Patterns: Elements of Reusable Object-Oriented Software\"_ by Erich Gamma, Richard Helm, Ralph Johnson, and John Vlissides (known as the Gang of Four) largely influenced how people think about them today.\n",
    "\n",
    "The book defines three types of patterns:\n",
    "\n",
    "### Creational\n",
    "\n",
    "- Patterns dealing with the creation of objects beyond simple instantiation.\n",
    "\n",
    "### Structural\n",
    "\n",
    "- Patterns concerning class composition to achieve specific functionality.\n",
    "\n",
    "### Behavioral\n",
    "\n",
    "- Patterns concerned with the communication or interaction between classes.\n",
    "\n",
    "<div class=\"alert alert-block alert-info\">\n",
    "\n",
    "**Note:** Design patterns are not without criticism. Some people consider them mere workarounds for missing features in a programming language. While this may be true in some cases, it does not mean they are not useful, and knowing them can help to understand advanced language features more easily.\n",
    "\n",
    "</div>\n",
    "\n",
    "The Gang of Four lists 23 patterns in their book. Since we cannot cover all of them in this notebook, we will focus one one from each type. You can check out the rest of them [here](https://en.wikipedia.org/wiki/Design_Patterns#Patterns_by_type).\n"
   ]
  },
  {
   "attachments": {},
   "cell_type": "markdown",
   "metadata": {},
   "source": [
    "## Example creational pattern: Factory\n",
    "\n",
    "When we need to create an object, we usually simply instantiate it directly. There are circumstances, however, where that may become cumbersome. For example, let's say we are writing a game and need to spawn monsters in an area. We have created a couple of different `Monster` subclasses:\n"
   ]
  },
  {
   "cell_type": "code",
   "execution_count": null,
   "metadata": {},
   "outputs": [],
   "source": [
    "class Monster:\n",
    "    def __init__(self, health):\n",
    "        self.health = health\n",
    "\n",
    "    def attack(self):\n",
    "        pass\n",
    "\n",
    "    def defend(self):\n",
    "        pass\n",
    "\n",
    "    def special(self):\n",
    "        pass\n",
    "\n",
    "\n",
    "class Orc(Monster):\n",
    "    def __init__(\n",
    "        self,\n",
    "        health=5,\n",
    "    ):\n",
    "        super().__init__(health)\n",
    "\n",
    "    def attack(self):\n",
    "        print(\"The orc attacks!\")\n",
    "\n",
    "    def defend(self):\n",
    "        print(\"The orc parries!\")\n",
    "\n",
    "    def special(self):\n",
    "        print(\"The orc lets out a war cry!\")\n",
    "\n",
    "\n",
    "class Kobold(Monster):\n",
    "    def __init__(self, health=3):\n",
    "        super().__init__(health)\n",
    "\n",
    "    def attack(self):\n",
    "        print(\"The kobold attacks!\")\n",
    "\n",
    "    def defend(self):\n",
    "        print(\"The kobold dodges!\")\n",
    "\n",
    "    def special(self):\n",
    "        print(\"The kobold sets off a trap!\")\n",
    "\n",
    "\n",
    "class Dragon(Monster):\n",
    "    def __init__(self, health=20):\n",
    "        super().__init__(health)\n",
    "\n",
    "    def attack(self):\n",
    "        print(\"The dragon attacks!\")\n",
    "\n",
    "    def defend(self):\n",
    "        print(\"The dragon blocks!\")\n",
    "\n",
    "    def special(self):\n",
    "        print(\"The dragon breathes fire!\")"
   ]
  },
  {
   "attachments": {},
   "cell_type": "markdown",
   "metadata": {},
   "source": [
    "We could then define the monsters in an area in a list and then spawn them like so:\n"
   ]
  },
  {
   "cell_type": "code",
   "execution_count": null,
   "metadata": {},
   "outputs": [],
   "source": [
    "monsters_to_spawn = [\"orc\", \"orc\", \"orc\", \"kobold\", \"kobold\", \"dragon\"]\n",
    "\n",
    "\n",
    "monsters = list()\n",
    "for monster in monsters_to_spawn:\n",
    "    if monster == \"orc\":\n",
    "        monsters.append(Orc())\n",
    "    if monster == \"kobold\":\n",
    "        monsters.append(Kobold())\n",
    "    if monster == \"dragon\":\n",
    "        monsters.append(Dragon())\n",
    "\n",
    "\n",
    "for monster in monsters:\n",
    "    monster.attack()\n",
    "    monster.special()"
   ]
  },
  {
   "attachments": {},
   "cell_type": "markdown",
   "metadata": {},
   "source": [
    "That does the trick and is not terrible at first glance. However, what if we wanted to include a difficulty level? We would have to do something like this:\n"
   ]
  },
  {
   "cell_type": "code",
   "execution_count": null,
   "metadata": {},
   "outputs": [],
   "source": [
    "monsters_to_spawn = [\"orc\", \"orc\", \"orc\", \"kobold\", \"kobold\", \"dragon\"]\n",
    "\n",
    "difficulty = \"hard\"\n",
    "\n",
    "\n",
    "monsters = list()\n",
    "for monster in monsters_to_spawn:\n",
    "    if monster == \"orc\":\n",
    "        if difficulty == \"easy\":\n",
    "            monsters.append(Orc(health=5))\n",
    "        if difficulty == \"hard\":\n",
    "            monsters.append(Orc(health=10))\n",
    "    if monster == \"kobold\":\n",
    "        if difficulty == \"easy\":\n",
    "            monsters.append(Kobold(health=3))\n",
    "        if difficulty == \"hard\":\n",
    "            monsters.append(Kobold(health=6))\n",
    "    if monster == \"dragon\":\n",
    "        if difficulty == \"easy\":\n",
    "            monsters.append(Dragon(health=20))\n",
    "        if difficulty == \"hard\":\n",
    "            monsters.append(Dragon(health=40))\n",
    "\n",
    "\n",
    "for monster in monsters:\n",
    "    monster.attack()\n",
    "    monster.special()"
   ]
  },
  {
   "attachments": {},
   "cell_type": "markdown",
   "metadata": {},
   "source": [
    "The code is starting to get fairly verbose. It would get even worse if we added more kinds of monsters or more difficulty levels. It's also likely that we would encounter logic like the above in several parts of our program, which means we would have to make sure we keep all of those places up to date with any additions we might make!\n",
    "\n",
    "The underlying problem here is as follows:\n",
    "\n",
    "- The calling (or client) code wants to create a couple of objects\n",
    "- These objects need to be created according to certain specifications (type of monster, difficulty level)\n",
    "- The client has to know the implementation details of the desired objects (e.g., how the difficulty affects the hitpoints)\n",
    "\n",
    "We can fix all of these issues by delegating the object construction to a separate object using the `Factory` pattern:\n"
   ]
  },
  {
   "cell_type": "code",
   "execution_count": 1,
   "metadata": {},
   "outputs": [],
   "source": [
    "class MonsterFactory:\n",
    "    def __init__(self, difficulty):\n",
    "        self.difficulty = difficulty\n",
    "        self.base_hitpoints = {\"orc\": 5, \"kobold\": 3, \"dragon\": 20}\n",
    "\n",
    "    def spawn(self, monster):\n",
    "        if self.difficulty == \"easy\":\n",
    "            hitpoints = self.base_hitpoints[monster]\n",
    "        if self.difficulty == \"hard\":\n",
    "            hitpoints = self.base_hitpoints[monster] * 2\n",
    "\n",
    "        if monster == \"orc\":\n",
    "            return Orc(health=hitpoints)\n",
    "        if monster == \"kobold\":\n",
    "            return Kobold(health=hitpoints)\n",
    "        if monster == \"dragon\":\n",
    "            return Dragon(health=hitpoints)"
   ]
  },
  {
   "attachments": {},
   "cell_type": "markdown",
   "metadata": {},
   "source": [
    "Now we can use the `MonsterFactory` to spawn our monsters:\n"
   ]
  },
  {
   "cell_type": "code",
   "execution_count": null,
   "metadata": {},
   "outputs": [],
   "source": [
    "monsters_to_spawn = [\"orc\", \"orc\", \"orc\", \"kobold\", \"kobold\", \"dragon\"]\n",
    "\n",
    "monster_factory = MonsterFactory(\"hard\")\n",
    "\n",
    "monsters = [monster_factory.spawn(monster) for monster in monsters_to_spawn]\n",
    "\n",
    "for monster in monsters:\n",
    "    monster.attack()\n",
    "    monster.special()"
   ]
  },
  {
   "attachments": {},
   "cell_type": "markdown",
   "metadata": {},
   "source": [
    "The client code now no longer needs to worry about the implementation of the various monster types and how the difficulty affects their stats! This is all handled in the `MonsterFactory`, which can be easily extended or adapted as we continue adding monster or balancing the difficulty.\n",
    "\n",
    "By the way: You can find plenty of examples for the `Factory` pattern in Python. The construction of a `date` object from a timestamp, for example, uses a factory method:\n"
   ]
  },
  {
   "cell_type": "code",
   "execution_count": null,
   "metadata": {},
   "outputs": [],
   "source": [
    "from datetime import date\n",
    "import time\n",
    "\n",
    "date.fromtimestamp(time.time())"
   ]
  },
  {
   "attachments": {},
   "cell_type": "markdown",
   "metadata": {},
   "source": [
    "Another example is the construction of a Pandas `DataFrame` from a dictionary:\n"
   ]
  },
  {
   "cell_type": "code",
   "execution_count": null,
   "metadata": {},
   "outputs": [],
   "source": [
    "import pandas as pd\n",
    "\n",
    "data = {\"Numbers\": [3, 2, 1, 0], \"Letters\": [\"a\", \"b\", \"c\", \"d\"]}\n",
    "pd.DataFrame.from_dict(data)"
   ]
  },
  {
   "attachments": {},
   "cell_type": "markdown",
   "metadata": {},
   "source": [
    "## Example structural pattern: Decorator\n",
    "\n",
    "Sometimes we want to add, remove, or alter functionality to an object at runtime. Consider the following example of a class for some iterative calculations:\n"
   ]
  },
  {
   "cell_type": "code",
   "execution_count": null,
   "metadata": {},
   "outputs": [],
   "source": [
    "from time import sleep\n",
    "\n",
    "\n",
    "class NumberCruncher:\n",
    "    def __init__(self, n_iter):\n",
    "        self.n_iter = n_iter\n",
    "\n",
    "    def crunch(self):\n",
    "        for _ in range(self.n_iter):\n",
    "            self.do_iteration()\n",
    "        print(\"\\n\")\n",
    "\n",
    "    def do_iteration(self):\n",
    "        print(\".\", end=\"\")\n",
    "        sleep(0.1)\n",
    "\n",
    "\n",
    "nc = NumberCruncher(10)\n",
    "\n",
    "nc.crunch()"
   ]
  },
  {
   "attachments": {},
   "cell_type": "markdown",
   "metadata": {},
   "source": [
    "Now what if we wanted to add some logging output to this class without changing its implementation?\n",
    "\n",
    "We could use the `Decorator` pattern:\n"
   ]
  },
  {
   "cell_type": "code",
   "execution_count": null,
   "metadata": {},
   "outputs": [],
   "source": [
    "class LoggingDecorator:\n",
    "    def __init__(self, number_cruncher):\n",
    "        self.number_cruncher = number_cruncher\n",
    "\n",
    "    def crunch(self):\n",
    "        print(10 * \"*\")\n",
    "        print(\"Crunching...\")\n",
    "        self.number_cruncher.crunch()\n",
    "        print(\"Done!\")\n",
    "        print(10 * \"*\")\n",
    "\n",
    "\n",
    "nc = LoggingDecorator(NumberCruncher(10))\n",
    "\n",
    "nc.crunch()"
   ]
  },
  {
   "attachments": {},
   "cell_type": "markdown",
   "metadata": {},
   "source": [
    "The `Decorator` wraps around the object we want to decorate and then copies the wrapped object's interface, adding the desired functionality around it.\n"
   ]
  },
  {
   "attachments": {},
   "cell_type": "markdown",
   "metadata": {},
   "source": [
    "## Example behavioral pattern: Memento"
   ]
  },
  {
   "attachments": {},
   "cell_type": "markdown",
   "metadata": {},
   "source": [
    "The `Memento` pattern can be used whenever you need to save and restore a previous state of an object. A great example is an _undo_ functionality. Assume we are implementing a simple _Guess the Word_ game:\n"
   ]
  },
  {
   "cell_type": "code",
   "execution_count": null,
   "metadata": {},
   "outputs": [],
   "source": [
    "class GuessTheWord:\n",
    "    def __init__(self, solution):\n",
    "        self.solution = solution\n",
    "        self.current = len(self.solution) * [\"_\"]\n",
    "        self.is_solved = False\n",
    "\n",
    "    def get_input(self):\n",
    "        return input()\n",
    "\n",
    "    def print(self):\n",
    "        print(self.current)\n",
    "\n",
    "    def run(self):\n",
    "        print(\"Welcome to Guess The Word!\")\n",
    "\n",
    "        while not self.is_solved:\n",
    "            self.print()\n",
    "            s = self.get_input()\n",
    "            if len(s) == 1:\n",
    "                self.try_letter(s)\n",
    "            else:\n",
    "                self.try_solution(s)\n",
    "            if self.is_solved:\n",
    "                self.print()\n",
    "                print(\"You won!\")\n",
    "\n",
    "    def try_letter(self, s):\n",
    "        for idx, c in enumerate(self.solution):\n",
    "            if c.lower() == s.lower():\n",
    "                self.current[idx] = c\n",
    "        if \"_\" not in self.current:\n",
    "            self.is_solved = True\n",
    "\n",
    "    def try_solution(self, s):\n",
    "        if self.solution == s:\n",
    "            self.current = [c for c in self.solution]\n",
    "            self.is_solved = True\n",
    "        else:\n",
    "            print(\"That's not it!\")\n",
    "\n",
    "\n",
    "GuessTheWord(\"Mystery\").run()"
   ]
  },
  {
   "attachments": {},
   "cell_type": "markdown",
   "metadata": {},
   "source": [
    "Let's say we want to add an _undo_ command to the game that moves the game back to the previous state. To do that, we first need to figure out what exactly constitutes the _state_ of the game at any point in time. In this case, the state is simply the field `current`. To implement the `Memento` pattern, we will now change the code slightly, so that before the state is changed, a snapshot of it is saved to a history:\n"
   ]
  },
  {
   "cell_type": "code",
   "execution_count": null,
   "metadata": {},
   "outputs": [],
   "source": [
    "class GuessTheWord:\n",
    "    def __init__(self, solution):\n",
    "        self.solution = solution\n",
    "        self.history = []  # We start with an empty history\n",
    "        self.current = len(self.solution) * [\"_\"]\n",
    "        self.is_solved = False\n",
    "\n",
    "    def get_input(self):\n",
    "        return input()\n",
    "\n",
    "    def print(self):\n",
    "        print(self.current)\n",
    "\n",
    "    def run(self):\n",
    "        print(\"Welcome to Guess The Word!\")\n",
    "\n",
    "        while not self.is_solved:\n",
    "            self.print()\n",
    "            s = self.get_input()\n",
    "            if len(s) == 1:\n",
    "                self.try_letter(s)\n",
    "            elif s == \"undo\":\n",
    "                # Restore the last state from the history\n",
    "                if self.history:\n",
    "                    self.current = self.history.pop()\n",
    "            else:\n",
    "                self.try_solution(s)\n",
    "\n",
    "            if self.is_solved:\n",
    "                self.print()\n",
    "                print(\"You won!\")\n",
    "\n",
    "    def try_letter(self, s):\n",
    "        # Add a snapshot of the current state to the history\n",
    "        self.history.append(self.current.copy())\n",
    "\n",
    "        for idx, c in enumerate(self.solution):\n",
    "            if c.lower() == s.lower():\n",
    "                self.current[idx] = c\n",
    "        if \"_\" not in self.current:\n",
    "            self.is_solved = True\n",
    "\n",
    "    def try_solution(self, s):\n",
    "        if self.solution == s:\n",
    "            self.current = [c for c in self.solution]\n",
    "            self.is_solved = True\n",
    "        else:\n",
    "            print(\"That's not it!\")\n",
    "\n",
    "\n",
    "GuessTheWord(\"Mystery\").run()"
   ]
  },
  {
   "cell_type": "markdown",
   "metadata": {},
   "source": [
    "<table >\n",
    "<tbody>\n",
    "  <tr>\n",
    "    <td style=\"padding:0px;border-width:0px;vertical-align:center\">    \n",
    "    Created by Simon Stone for Dartmouth College Library under <a href=\"https://creativecommons.org/licenses/by/4.0/\">Creative Commons CC BY-NC 4.0 License</a>.<br>For questions, comments, or improvements, email <a href=\"mailto:researchdatahelp@groups.dartmouth.edu\">Research Data Services</a>.\n",
    "    </td>\n",
    "    <td style=\"padding:0 0 0 1em;border-width:0px;vertical-align:center\"><img alt=\"Creative Commons License\" src=\"https://i.creativecommons.org/l/by/4.0/88x31.png\"/></td>\n",
    "  </tr>\n",
    "</tbody>\n",
    "</table>\n"
   ]
  }
 ],
 "metadata": {
  "kernelspec": {
   "display_name": ".env",
   "language": "python",
   "name": "python3"
  },
  "language_info": {
   "codemirror_mode": {
    "name": "ipython",
    "version": 3
   },
   "file_extension": ".py",
   "mimetype": "text/x-python",
   "name": "python",
   "nbconvert_exporter": "python",
   "pygments_lexer": "ipython3",
   "version": "3.10.8"
  },
  "orig_nbformat": 4
 },
 "nbformat": 4,
 "nbformat_minor": 2
}
