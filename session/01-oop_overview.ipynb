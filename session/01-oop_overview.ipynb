{
 "cells": [
  {
   "cell_type": "markdown",
   "metadata": {},
   "source": [
    "# Overview of object-oriented programming"
   ]
  },
  {
   "cell_type": "markdown",
   "metadata": {},
   "source": [
    "## Definitions\n",
    "\n",
    "### Object\n",
    "\n",
    "An encapsulation of data and the functions working with that data\n",
    "\n",
    "The variables storing the data in an object are called _fields_ or _member variables_.\n",
    "\n",
    "The functions defined on an object are called _methods_ or _member functions_.\n",
    "\n",
    "### Class\n",
    "\n",
    "A blueprint for objects defining what _kind_ of fields they contain and _how_ their methods work.\n",
    "\n",
    "An object is called an _instance_ of a class.\n"
   ]
  },
  {
   "cell_type": "markdown",
   "metadata": {},
   "source": [
    "## Why bother?\n",
    "\n",
    "OOP can help to increase:\n",
    "\n",
    "- Modularity of code for easier testing and troubleshooting\n",
    "- Reuse of code within and across projects\n",
    "- Expressiveness of the code by using real-world analogies\n",
    "- The portability of code between platforms or languages\n"
   ]
  },
  {
   "cell_type": "markdown",
   "metadata": {},
   "source": [
    "## Key concepts\n",
    "\n",
    "There are four key concepts in Object-Oriented Programming:\n",
    "\n",
    "- Encapsulation\n",
    "- Inheritance\n",
    "- Composition\n",
    "- Polymorphism\n"
   ]
  },
  {
   "cell_type": "markdown",
   "metadata": {},
   "source": [
    "### Encapsulation\n",
    "\n",
    "Two distinct, but related aspects:\n",
    "\n",
    "- Bundle data and methods operating on the data in an entity\n",
    "- Control and restrict access to the data from the outside\n",
    "\n",
    "Let's say we want to create a (overly simplified) user management system. We could formulate our coding problem like this:\n",
    "\n",
    "_The system should have users with a name, email and password. Users should be able to authenticate by entering the correct password. Each user should be able to change their password._\n",
    "\n",
    "In OOP terms, this translates to:\n",
    "\n",
    "_We need a class `User` with the fields `name`, `email`, and `password`, and the methods `authenticate` and `change_password`._\n"
   ]
  },
  {
   "cell_type": "code",
   "execution_count": null,
   "metadata": {},
   "outputs": [],
   "source": [
    "class User:\n",
    "    def __init__(self, username, email, password):\n",
    "        self.username = username\n",
    "        self.email = email\n",
    "        self.__password = password  # Using double underscores for private attribute\n",
    "\n",
    "    def change_password(self, new_password):\n",
    "        self.__password = new_password\n",
    "        print(f\"Password for {self.username} has been updated.\")\n",
    "\n",
    "    def authenticate(self, password):\n",
    "        return self.__password == password"
   ]
  },
  {
   "cell_type": "code",
   "execution_count": null,
   "metadata": {},
   "outputs": [],
   "source": [
    "some_user = User(\"simon\", \"simon.stone@dartmouth.edu\", \"simon123\")"
   ]
  },
  {
   "cell_type": "code",
   "execution_count": null,
   "metadata": {},
   "outputs": [],
   "source": [
    "some_user.change_password(\"123simon\")\n",
    "print(\"Using wrong password:\", some_user.authenticate(\"simon123\"))\n",
    "print(\"Using correct password: \", some_user.authenticate(\"123simon\"))"
   ]
  },
  {
   "cell_type": "markdown",
   "metadata": {},
   "source": [
    "If the above code is in a `*.py` file (e.g., `user.py`), all of this functionality can be easily reused in another script in the same folder by importing the `User` class (e.g., `from user import User`).\n"
   ]
  },
  {
   "cell_type": "markdown",
   "metadata": {},
   "source": [
    "### Inheritance\n",
    "\n",
    "With _inheritance_, we can create new classes that extend the functionality of an existing class without needing to duplicate the code.\n",
    "\n",
    "For example, let's say we are facing the following problem with our user management system:\n",
    "\n",
    "_There should be an admin user that **is a** regular user, but also can change the passwords of other users._\n",
    "\n",
    "So the admin user should have all the functionality of a regular user, but _in addition_ should have the power to change another users password.\n",
    "\n",
    "This _is a_ relationship can be implemented using inheritance:\n"
   ]
  },
  {
   "cell_type": "code",
   "execution_count": null,
   "metadata": {},
   "outputs": [],
   "source": [
    "# The class in parentheses is the super class (or parent class) that the subclass (or child class) inherits the functionality from\n",
    "class AdminUser(User):\n",
    "    def reset_user_password(self, user, new_password):\n",
    "        user.change_password(new_password)\n",
    "        print(f\"{self.username} has reset password for {user.username}.\")"
   ]
  },
  {
   "cell_type": "code",
   "execution_count": null,
   "metadata": {},
   "outputs": [],
   "source": [
    "friendly_admin = AdminUser(\"elijah\", \"elijah@dartmouth.edu\", \"elijahspassword\")"
   ]
  },
  {
   "cell_type": "code",
   "execution_count": null,
   "metadata": {},
   "outputs": [],
   "source": [
    "friendly_admin.reset_user_password(some_user, \"writeitdownnexttime\")"
   ]
  },
  {
   "cell_type": "markdown",
   "metadata": {},
   "source": [
    "### Composition\n",
    "\n",
    "_Composition_ allows you to use and combine the functionality of existing classes.\n",
    "\n",
    "In our example, we might want to implement user groups. We could express this problem like this:\n",
    "\n",
    "_A group has a name and a list of users._\n",
    "\n",
    "This _has a_ relationship can be implemented with composition:\n"
   ]
  },
  {
   "cell_type": "code",
   "execution_count": null,
   "metadata": {},
   "outputs": [],
   "source": [
    "class Group:\n",
    "    def __init__(self, name, is_admin_group=False):\n",
    "        self.name = name\n",
    "        self.is_admin_group = is_admin_group\n",
    "        self.users = []\n",
    "\n",
    "    def add_user(self, user):\n",
    "        if self.is_admin_group and not isinstance(user, AdminUser):\n",
    "            print(f\"Error: Only admin users can be added to the {self.name} group.\")\n",
    "            return\n",
    "        self.users.append(user)\n",
    "        print(f\"{user.username} has been added to the group {self.name}.\")\n",
    "\n",
    "    def remove_user(self, user):\n",
    "        if user in self.users:\n",
    "            self.users.remove(user)\n",
    "            print(f\"{user.username} has been removed from the group {self.name}.\")\n",
    "        else:\n",
    "            print(f\"{user.username} is not in this group.\")\n",
    "\n",
    "    def list_users(self):\n",
    "        print(f\"Users in {self.name}:\")\n",
    "        for user in self.users:\n",
    "            print(f\"- {user.username}\")"
   ]
  },
  {
   "cell_type": "code",
   "execution_count": null,
   "metadata": {},
   "outputs": [],
   "source": [
    "admins = Group(\"Admins\", is_admin_group=True)"
   ]
  },
  {
   "cell_type": "code",
   "execution_count": null,
   "metadata": {},
   "outputs": [],
   "source": [
    "admins.add_user(some_user)\n",
    "admins.add_user(friendly_admin)"
   ]
  },
  {
   "cell_type": "markdown",
   "metadata": {},
   "source": [
    "<table >\n",
    "<tbody>\n",
    "  <tr>\n",
    "    <td style=\"padding:0px;border-width:0px;vertical-align:center\">    \n",
    "    Created by Simon Stone for Dartmouth College Library under <a href=\"https://creativecommons.org/licenses/by/4.0/\">Creative Commons CC BY-NC 4.0 License</a>.<br>For questions, comments, or improvements, email <a href=\"mailto:researchdatahelp@groups.dartmouth.edu\">Research Data Services</a>.\n",
    "    </td>\n",
    "    <td style=\"padding:0 0 0 1em;border-width:0px;vertical-align:center\"><img alt=\"Creative Commons License\" src=\"https://i.creativecommons.org/l/by/4.0/88x31.png\"/></td>\n",
    "  </tr>\n",
    "</tbody>\n",
    "</table>\n"
   ]
  }
 ],
 "metadata": {
  "kernelspec": {
   "display_name": "Python 3",
   "language": "python",
   "name": "python3"
  },
  "language_info": {
   "codemirror_mode": {
    "name": "ipython",
    "version": 3
   },
   "file_extension": ".py",
   "mimetype": "text/x-python",
   "name": "python",
   "nbconvert_exporter": "python",
   "pygments_lexer": "ipython3",
   "version": "3.12.2"
  }
 },
 "nbformat": 4,
 "nbformat_minor": 2
}
