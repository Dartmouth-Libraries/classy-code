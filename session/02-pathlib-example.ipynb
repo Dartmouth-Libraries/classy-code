{
 "cells": [
  {
   "cell_type": "markdown",
   "metadata": {},
   "source": [
    "# The `pathlib` library\n",
    "\n",
    "The [`pathlib`](https://docs.python.org/3/library/pathlib.html) library is a built-in library in Python 3.4+ that represents file paths as objects instead of just strings. It makes for a great case study for the benefits of object-oriented programming!\n"
   ]
  },
  {
   "cell_type": "markdown",
   "metadata": {},
   "source": [
    "## Encapsulation"
   ]
  },
  {
   "cell_type": "code",
   "execution_count": null,
   "metadata": {},
   "outputs": [],
   "source": [
    "from pathlib import Path  # Just a single class encapsulates all the functionality!"
   ]
  },
  {
   "cell_type": "code",
   "execution_count": null,
   "metadata": {},
   "outputs": [],
   "source": [
    "cwd = Path(\".\")\n",
    "\n",
    "for file in cwd.glob(\"*.ipynb\"):\n",
    "    if file.stem.endswith(\"overview\"):\n",
    "        print(file)"
   ]
  },
  {
   "cell_type": "markdown",
   "metadata": {},
   "source": [
    "## Inheritance\n",
    "\n",
    "The `Path` class inherits from a `PurePath` class. The `PurePath` class contains all the functionality related to creating and manipulating file names, but does not actually access any file system. `Path` inherits all this functionality and then adds the filesystem-level methods like creating and deleting files, globbing, and so on.\n",
    "\n",
    "Inheritance also allows the abstraction of the platform, i.e., you can use the same code regardless of a Windows or Posix filesystem.\n",
    "\n",
    "The inheritance diagram for the `pathlib` objects look like this:\n",
    "\n",
    "<img src=\"https://docs.python.org/3/_images/pathlib-inheritance.png\" alt=\"pathlib inheritance\" width=\"500\" style=\"background:gray\">\n"
   ]
  },
  {
   "cell_type": "markdown",
   "metadata": {},
   "source": [
    "## Composition\n",
    "\n",
    "The `Path` class uses composition extensively. For example: A path _has a_ parent. The parent is another `Path` object:\n"
   ]
  },
  {
   "cell_type": "code",
   "execution_count": null,
   "metadata": {},
   "outputs": [],
   "source": [
    "p = Path(\"../img/composition.png\").parent\n",
    "\n",
    "print(type(p))"
   ]
  },
  {
   "cell_type": "markdown",
   "metadata": {},
   "source": [
    "## Polymorphism\n",
    "\n",
    "Because of polymorphism, any function that can accept a `Path` object, can also accept a `PosixPath` or `WindowsPath` object. This allows platform-independent file I/O.\n"
   ]
  },
  {
   "cell_type": "markdown",
   "metadata": {},
   "source": [
    "## Bonus content: Operator overloading\n",
    "\n",
    "Classes can define how they interact with operators (e.g. `+`, `-`, `*`, or `/`). This is known as _operator overloading_.\n",
    "\n",
    "Python strings, for example, have overloaded the `+` when both sides of the operation are a string:\n"
   ]
  },
  {
   "cell_type": "code",
   "execution_count": null,
   "metadata": {},
   "outputs": [],
   "source": [
    "\"Simon\" + \"Stone\""
   ]
  },
  {
   "cell_type": "markdown",
   "metadata": {},
   "source": [
    "And the `*` operator when one side is a string and the other an integer:\n"
   ]
  },
  {
   "cell_type": "code",
   "execution_count": null,
   "metadata": {},
   "outputs": [],
   "source": [
    "\"-\" * 10"
   ]
  },
  {
   "cell_type": "markdown",
   "metadata": {},
   "source": [
    "The `Path` class overloads the `/` operator when at least one side is a `Path` object and the other side a string or another `Path`. This allows for very readable path concatenation:\n"
   ]
  },
  {
   "cell_type": "code",
   "execution_count": null,
   "metadata": {},
   "outputs": [],
   "source": [
    "root_folder = Path(\"..\")\n",
    "\n",
    "log_folder = root_folder / \"resources\" / \"logs\"\n",
    "\n",
    "print(log_folder)"
   ]
  },
  {
   "cell_type": "markdown",
   "metadata": {},
   "source": [
    "<table >\n",
    "<tbody>\n",
    "  <tr>\n",
    "    <td style=\"padding:0px;border-width:0px;vertical-align:center\">    \n",
    "    Created by Simon Stone for Dartmouth College Library under <a href=\"https://creativecommons.org/licenses/by/4.0/\">Creative Commons CC BY-NC 4.0 License</a>.<br>For questions, comments, or improvements, email <a href=\"mailto:researchdatahelp@groups.dartmouth.edu\">Research Data Services</a>.\n",
    "    </td>\n",
    "    <td style=\"padding:0 0 0 1em;border-width:0px;vertical-align:center\"><img alt=\"Creative Commons License\" src=\"https://i.creativecommons.org/l/by/4.0/88x31.png\"/></td>\n",
    "  </tr>\n",
    "</tbody>\n",
    "</table>\n"
   ]
  }
 ],
 "metadata": {
  "kernelspec": {
   "display_name": ".venv",
   "language": "python",
   "name": "python3"
  },
  "language_info": {
   "codemirror_mode": {
    "name": "ipython",
    "version": 3
   },
   "file_extension": ".py",
   "mimetype": "text/x-python",
   "name": "python",
   "nbconvert_exporter": "python",
   "pygments_lexer": "ipython3",
   "version": "3.12.2"
  }
 },
 "nbformat": 4,
 "nbformat_minor": 2
}
